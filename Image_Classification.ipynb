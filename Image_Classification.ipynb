{
  "nbformat": 4,
  "nbformat_minor": 0,
  "metadata": {
    "colab": {
      "provenance": [],
      "collapsed_sections": [],
      "authorship_tag": "ABX9TyNRdgH2kAeHjCHYqDhpBQqX",
      "include_colab_link": true
    },
    "kernelspec": {
      "name": "python3",
      "display_name": "Python 3"
    },
    "language_info": {
      "name": "python"
    }
  },
  "cells": [
    {
      "cell_type": "markdown",
      "metadata": {
        "id": "view-in-github",
        "colab_type": "text"
      },
      "source": [
        "<a href=\"https://colab.research.google.com/github/Akash9672/Image_Classification/blob/main/Image_Classification.ipynb\" target=\"_parent\"><img src=\"https://colab.research.google.com/assets/colab-badge.svg\" alt=\"Open In Colab\"/></a>"
      ]
    },
    {
      "cell_type": "code",
      "source": [
        "from google.colab import drive\n",
        "drive.mount('/content/drive')"
      ],
      "metadata": {
        "colab": {
          "base_uri": "https://localhost:8080/"
        },
        "id": "PNw2USetK4qg",
        "outputId": "207b34d3-6c54-4446-a21f-22c15ed323ca"
      },
      "execution_count": 4,
      "outputs": [
        {
          "output_type": "stream",
          "name": "stdout",
          "text": [
            "Mounted at /content/drive\n"
          ]
        }
      ]
    },
    {
      "cell_type": "markdown",
      "source": [
        "**Gather Data:-**"
      ],
      "metadata": {
        "id": "Jg1mDkdTL5tA"
      }
    },
    {
      "cell_type": "code",
      "source": [
        "cd /content/drive/MyDrive/dataset"
      ],
      "metadata": {
        "colab": {
          "base_uri": "https://localhost:8080/"
        },
        "id": "mKkHWsKxLi9s",
        "outputId": "49f7028f-d2f2-4ce6-c368-224aac2d79e2"
      },
      "execution_count": 5,
      "outputs": [
        {
          "output_type": "stream",
          "name": "stdout",
          "text": [
            "/content/drive/MyDrive/dataset\n"
          ]
        }
      ]
    },
    {
      "cell_type": "code",
      "source": [
        "%ls '/content/drive/MyDrive/dataset'"
      ],
      "metadata": {
        "colab": {
          "base_uri": "https://localhost:8080/"
        },
        "id": "QtyFUkncLpzM",
        "outputId": "ee1ad60a-5fa1-49bb-df77-a7d15d0a91a9"
      },
      "execution_count": 6,
      "outputs": [
        {
          "output_type": "stream",
          "name": "stdout",
          "text": [
            "\u001b[0m\u001b[01;34mfemale\u001b[0m/  \u001b[01;34mmale\u001b[0m/\n"
          ]
        }
      ]
    },
    {
      "cell_type": "markdown",
      "source": [
        "**Preprocess Data:-**\n"
      ],
      "metadata": {
        "id": "Ruy1dqHRLvFK"
      }
    },
    {
      "cell_type": "code",
      "source": [
        "#libraries are imported\n",
        "import numpy as np\n",
        "import pandas as pd\n",
        "import os\n",
        "import matplotlib.pyplot as plt\n",
        "from skimage.transform import resize\n",
        "from skimage.io import imread"
      ],
      "metadata": {
        "id": "a1o--WGsL0Mm"
      },
      "execution_count": 7,
      "outputs": []
    },
    {
      "cell_type": "code",
      "source": [
        "target = [] \n",
        "images = [] \n",
        "flat_data = [] \n",
        "DATADIR='/content/drive/MyDrive/dataset'\n",
        "\n",
        "CATEGORIES = ['female','male'] \n",
        "#reading all the file dataset\n",
        "for i in CATEGORIES:\n",
        "  class_target = CATEGORIES.index(i)                     \n",
        "  path=os.path.join(DATADIR,i)\n",
        "  for img in os.listdir(path):\n",
        "    img_array = imread(os.path.join(path,img))\n",
        "    img_resized=resize(img_array,(150,150,3))\n",
        "    flat_data.append(img_resized.flatten())\n",
        "    images.append(img_resized)\n",
        "    target.append(class_target)\n",
        "    print(img_array.shape)\n",
        "flat_data = np.array(flat_data)\n",
        "target=np.array(target)\n",
        "images=np.array(images)"
      ],
      "metadata": {
        "colab": {
          "base_uri": "https://localhost:8080/"
        },
        "id": "WUAT527kMG8v",
        "outputId": "b4ec70dd-e516-4df1-9581-a7ea25da047d"
      },
      "execution_count": 8,
      "outputs": [
        {
          "output_type": "stream",
          "name": "stdout",
          "text": [
            "(107, 83, 3)\n",
            "(98, 76, 3)\n",
            "(104, 89, 3)\n",
            "(100, 80, 3)\n",
            "(107, 86, 3)\n",
            "(99, 78, 3)\n",
            "(102, 85, 3)\n",
            "(110, 88, 3)\n",
            "(111, 80, 3)\n",
            "(102, 79, 3)\n",
            "(111, 88, 3)\n",
            "(108, 77, 3)\n",
            "(115, 88, 3)\n",
            "(109, 86, 3)\n",
            "(112, 89, 3)\n",
            "(116, 88, 3)\n",
            "(110, 83, 3)\n",
            "(99, 77, 3)\n",
            "(117, 86, 3)\n",
            "(114, 89, 3)\n",
            "(115, 86, 3)\n",
            "(120, 91, 3)\n",
            "(98, 81, 3)\n",
            "(97, 77, 3)\n",
            "(95, 76, 3)\n",
            "(108, 79, 3)\n",
            "(105, 80, 3)\n",
            "(102, 74, 3)\n",
            "(114, 87, 3)\n",
            "(109, 88, 3)\n",
            "(108, 81, 3)\n",
            "(99, 76, 3)\n",
            "(99, 72, 3)\n",
            "(122, 89, 3)\n",
            "(117, 83, 3)\n",
            "(115, 85, 3)\n",
            "(115, 88, 3)\n",
            "(109, 83, 3)\n",
            "(104, 77, 3)\n",
            "(100, 76, 3)\n",
            "(106, 90, 3)\n",
            "(111, 87, 3)\n",
            "(108, 82, 3)\n",
            "(114, 86, 3)\n",
            "(116, 85, 3)\n",
            "(114, 92, 3)\n",
            "(102, 80, 3)\n",
            "(99, 78, 3)\n",
            "(117, 87, 3)\n",
            "(110, 80, 3)\n",
            "(105, 80, 3)\n",
            "(109, 82, 3)\n",
            "(113, 88, 3)\n",
            "(106, 80, 3)\n",
            "(100, 76, 3)\n",
            "(117, 81, 3)\n",
            "(104, 81, 3)\n",
            "(100, 78, 3)\n",
            "(105, 81, 3)\n",
            "(107, 77, 3)\n",
            "(104, 82, 3)\n",
            "(101, 84, 3)\n",
            "(113, 85, 3)\n",
            "(109, 79, 3)\n",
            "(109, 81, 3)\n",
            "(103, 84, 3)\n",
            "(106, 83, 3)\n",
            "(100, 79, 3)\n",
            "(117, 96, 3)\n",
            "(104, 79, 3)\n",
            "(107, 85, 3)\n",
            "(107, 75, 3)\n",
            "(121, 94, 3)\n",
            "(100, 77, 3)\n",
            "(97, 79, 3)\n",
            "(91, 73, 3)\n",
            "(100, 81, 3)\n",
            "(109, 85, 3)\n",
            "(104, 85, 3)\n",
            "(102, 79, 3)\n",
            "(113, 89, 3)\n",
            "(105, 83, 3)\n",
            "(114, 87, 3)\n",
            "(102, 76, 3)\n",
            "(140, 97, 3)\n",
            "(114, 86, 3)\n",
            "(115, 91, 3)\n",
            "(110, 88, 3)\n",
            "(107, 82, 3)\n",
            "(113, 86, 3)\n",
            "(97, 79, 3)\n",
            "(113, 87, 3)\n",
            "(107, 81, 3)\n"
          ]
        }
      ]
    },
    {
      "cell_type": "code",
      "source": [
        "#Creating dataframe\n",
        "df=pd.DataFrame(flat_data)\n",
        "df['Target'] = target\n",
        "df"
      ],
      "metadata": {
        "colab": {
          "base_uri": "https://localhost:8080/",
          "height": 488
        },
        "id": "8Dy06_mKMeLT",
        "outputId": "dff0ebf3-fb3b-452c-aaf2-36357bf64224"
      },
      "execution_count": 9,
      "outputs": [
        {
          "output_type": "execute_result",
          "data": {
            "text/plain": [
              "           0         1         2         3         4         5         6  \\\n",
              "0   0.376769  0.265715  0.171974  0.365955  0.254841  0.161280  0.309854   \n",
              "1   0.095995  0.066830  0.058307  0.095857  0.066700  0.058177  0.090585   \n",
              "2   0.717855  0.481193  0.305998  0.711662  0.476239  0.301665  0.691978   \n",
              "3   0.315599  0.182919  0.173115  0.313333  0.180654  0.170850  0.295207   \n",
              "4   0.472043  0.323024  0.238113  0.476890  0.327870  0.241974  0.495836   \n",
              "..       ...       ...       ...       ...       ...       ...       ...   \n",
              "88  0.278418  0.232683  0.230036  0.281400  0.235978  0.232704  0.298864   \n",
              "89  0.045461  0.010167  0.015762  0.045028  0.009734  0.016479  0.043334   \n",
              "90  0.143799  0.071098  0.053556  0.146001  0.072980  0.055020  0.167750   \n",
              "91  0.135159  0.138114  0.115068  0.130535  0.133489  0.110444  0.113772   \n",
              "92  0.273211  0.140871  0.071664  0.275674  0.142707  0.073007  0.292297   \n",
              "\n",
              "           7         8         9  ...     67491     67492     67493     67494  \\\n",
              "0   0.198430  0.105802  0.283842  ...  0.561267  0.376405  0.430182  0.532125   \n",
              "1   0.061773  0.053250  0.086385  ...  0.404688  0.257499  0.207434  0.372633   \n",
              "2   0.460495  0.287890  0.628632  ...  0.733343  0.505762  0.356807  0.733700   \n",
              "3   0.162527  0.152723  0.264139  ...  0.366231  0.213290  0.193682  0.352288   \n",
              "4   0.346817  0.257068  0.531817  ...  0.756678  0.756678  0.654717  0.750255   \n",
              "..       ...       ...       ...  ...       ...       ...       ...       ...   \n",
              "88  0.255279  0.248332  0.342480  ...  0.989804  0.973556  0.939948  0.996235   \n",
              "89  0.008040  0.019282  0.043137  ...  0.209307  0.218092  0.266602  0.204810   \n",
              "90  0.091569  0.069477  0.194170  ...  0.120651  0.166924  0.271415  0.127329   \n",
              "91  0.116726  0.093680  0.109708  ...  0.257209  0.162341  0.146103  0.231659   \n",
              "92  0.155095  0.082071  0.304557  ...  0.861143  0.708594  0.604084  0.649682   \n",
              "\n",
              "       67495     67496     67497     67498     67499  Target  \n",
              "0   0.347262  0.401040  0.526507  0.341645  0.395422       0  \n",
              "1   0.229417  0.181339  0.371789  0.228678  0.180652       0  \n",
              "2   0.501465  0.354837  0.733812  0.500113  0.354218       0  \n",
              "3   0.199346  0.179739  0.350545  0.197603  0.177996       0  \n",
              "4   0.750255  0.648294  0.748612  0.748612  0.646651       0  \n",
              "..       ...       ...       ...       ...       ...     ...  \n",
              "88  0.979987  0.946379  0.997333  0.981085  0.947477       1  \n",
              "89  0.217538  0.266048  0.203660  0.217396  0.265906       1  \n",
              "90  0.176638  0.303607  0.128006  0.177622  0.306867       1  \n",
              "91  0.139906  0.128499  0.224610  0.133718  0.123642       1  \n",
              "92  0.526780  0.441329  0.618354  0.499845  0.417217       1  \n",
              "\n",
              "[93 rows x 67501 columns]"
            ],
            "text/html": [
              "\n",
              "  <div id=\"df-612b7a00-c047-4509-8b5f-000c274ef637\">\n",
              "    <div class=\"colab-df-container\">\n",
              "      <div>\n",
              "<style scoped>\n",
              "    .dataframe tbody tr th:only-of-type {\n",
              "        vertical-align: middle;\n",
              "    }\n",
              "\n",
              "    .dataframe tbody tr th {\n",
              "        vertical-align: top;\n",
              "    }\n",
              "\n",
              "    .dataframe thead th {\n",
              "        text-align: right;\n",
              "    }\n",
              "</style>\n",
              "<table border=\"1\" class=\"dataframe\">\n",
              "  <thead>\n",
              "    <tr style=\"text-align: right;\">\n",
              "      <th></th>\n",
              "      <th>0</th>\n",
              "      <th>1</th>\n",
              "      <th>2</th>\n",
              "      <th>3</th>\n",
              "      <th>4</th>\n",
              "      <th>5</th>\n",
              "      <th>6</th>\n",
              "      <th>7</th>\n",
              "      <th>8</th>\n",
              "      <th>9</th>\n",
              "      <th>...</th>\n",
              "      <th>67491</th>\n",
              "      <th>67492</th>\n",
              "      <th>67493</th>\n",
              "      <th>67494</th>\n",
              "      <th>67495</th>\n",
              "      <th>67496</th>\n",
              "      <th>67497</th>\n",
              "      <th>67498</th>\n",
              "      <th>67499</th>\n",
              "      <th>Target</th>\n",
              "    </tr>\n",
              "  </thead>\n",
              "  <tbody>\n",
              "    <tr>\n",
              "      <th>0</th>\n",
              "      <td>0.376769</td>\n",
              "      <td>0.265715</td>\n",
              "      <td>0.171974</td>\n",
              "      <td>0.365955</td>\n",
              "      <td>0.254841</td>\n",
              "      <td>0.161280</td>\n",
              "      <td>0.309854</td>\n",
              "      <td>0.198430</td>\n",
              "      <td>0.105802</td>\n",
              "      <td>0.283842</td>\n",
              "      <td>...</td>\n",
              "      <td>0.561267</td>\n",
              "      <td>0.376405</td>\n",
              "      <td>0.430182</td>\n",
              "      <td>0.532125</td>\n",
              "      <td>0.347262</td>\n",
              "      <td>0.401040</td>\n",
              "      <td>0.526507</td>\n",
              "      <td>0.341645</td>\n",
              "      <td>0.395422</td>\n",
              "      <td>0</td>\n",
              "    </tr>\n",
              "    <tr>\n",
              "      <th>1</th>\n",
              "      <td>0.095995</td>\n",
              "      <td>0.066830</td>\n",
              "      <td>0.058307</td>\n",
              "      <td>0.095857</td>\n",
              "      <td>0.066700</td>\n",
              "      <td>0.058177</td>\n",
              "      <td>0.090585</td>\n",
              "      <td>0.061773</td>\n",
              "      <td>0.053250</td>\n",
              "      <td>0.086385</td>\n",
              "      <td>...</td>\n",
              "      <td>0.404688</td>\n",
              "      <td>0.257499</td>\n",
              "      <td>0.207434</td>\n",
              "      <td>0.372633</td>\n",
              "      <td>0.229417</td>\n",
              "      <td>0.181339</td>\n",
              "      <td>0.371789</td>\n",
              "      <td>0.228678</td>\n",
              "      <td>0.180652</td>\n",
              "      <td>0</td>\n",
              "    </tr>\n",
              "    <tr>\n",
              "      <th>2</th>\n",
              "      <td>0.717855</td>\n",
              "      <td>0.481193</td>\n",
              "      <td>0.305998</td>\n",
              "      <td>0.711662</td>\n",
              "      <td>0.476239</td>\n",
              "      <td>0.301665</td>\n",
              "      <td>0.691978</td>\n",
              "      <td>0.460495</td>\n",
              "      <td>0.287890</td>\n",
              "      <td>0.628632</td>\n",
              "      <td>...</td>\n",
              "      <td>0.733343</td>\n",
              "      <td>0.505762</td>\n",
              "      <td>0.356807</td>\n",
              "      <td>0.733700</td>\n",
              "      <td>0.501465</td>\n",
              "      <td>0.354837</td>\n",
              "      <td>0.733812</td>\n",
              "      <td>0.500113</td>\n",
              "      <td>0.354218</td>\n",
              "      <td>0</td>\n",
              "    </tr>\n",
              "    <tr>\n",
              "      <th>3</th>\n",
              "      <td>0.315599</td>\n",
              "      <td>0.182919</td>\n",
              "      <td>0.173115</td>\n",
              "      <td>0.313333</td>\n",
              "      <td>0.180654</td>\n",
              "      <td>0.170850</td>\n",
              "      <td>0.295207</td>\n",
              "      <td>0.162527</td>\n",
              "      <td>0.152723</td>\n",
              "      <td>0.264139</td>\n",
              "      <td>...</td>\n",
              "      <td>0.366231</td>\n",
              "      <td>0.213290</td>\n",
              "      <td>0.193682</td>\n",
              "      <td>0.352288</td>\n",
              "      <td>0.199346</td>\n",
              "      <td>0.179739</td>\n",
              "      <td>0.350545</td>\n",
              "      <td>0.197603</td>\n",
              "      <td>0.177996</td>\n",
              "      <td>0</td>\n",
              "    </tr>\n",
              "    <tr>\n",
              "      <th>4</th>\n",
              "      <td>0.472043</td>\n",
              "      <td>0.323024</td>\n",
              "      <td>0.238113</td>\n",
              "      <td>0.476890</td>\n",
              "      <td>0.327870</td>\n",
              "      <td>0.241974</td>\n",
              "      <td>0.495836</td>\n",
              "      <td>0.346817</td>\n",
              "      <td>0.257068</td>\n",
              "      <td>0.531817</td>\n",
              "      <td>...</td>\n",
              "      <td>0.756678</td>\n",
              "      <td>0.756678</td>\n",
              "      <td>0.654717</td>\n",
              "      <td>0.750255</td>\n",
              "      <td>0.750255</td>\n",
              "      <td>0.648294</td>\n",
              "      <td>0.748612</td>\n",
              "      <td>0.748612</td>\n",
              "      <td>0.646651</td>\n",
              "      <td>0</td>\n",
              "    </tr>\n",
              "    <tr>\n",
              "      <th>...</th>\n",
              "      <td>...</td>\n",
              "      <td>...</td>\n",
              "      <td>...</td>\n",
              "      <td>...</td>\n",
              "      <td>...</td>\n",
              "      <td>...</td>\n",
              "      <td>...</td>\n",
              "      <td>...</td>\n",
              "      <td>...</td>\n",
              "      <td>...</td>\n",
              "      <td>...</td>\n",
              "      <td>...</td>\n",
              "      <td>...</td>\n",
              "      <td>...</td>\n",
              "      <td>...</td>\n",
              "      <td>...</td>\n",
              "      <td>...</td>\n",
              "      <td>...</td>\n",
              "      <td>...</td>\n",
              "      <td>...</td>\n",
              "      <td>...</td>\n",
              "    </tr>\n",
              "    <tr>\n",
              "      <th>88</th>\n",
              "      <td>0.278418</td>\n",
              "      <td>0.232683</td>\n",
              "      <td>0.230036</td>\n",
              "      <td>0.281400</td>\n",
              "      <td>0.235978</td>\n",
              "      <td>0.232704</td>\n",
              "      <td>0.298864</td>\n",
              "      <td>0.255279</td>\n",
              "      <td>0.248332</td>\n",
              "      <td>0.342480</td>\n",
              "      <td>...</td>\n",
              "      <td>0.989804</td>\n",
              "      <td>0.973556</td>\n",
              "      <td>0.939948</td>\n",
              "      <td>0.996235</td>\n",
              "      <td>0.979987</td>\n",
              "      <td>0.946379</td>\n",
              "      <td>0.997333</td>\n",
              "      <td>0.981085</td>\n",
              "      <td>0.947477</td>\n",
              "      <td>1</td>\n",
              "    </tr>\n",
              "    <tr>\n",
              "      <th>89</th>\n",
              "      <td>0.045461</td>\n",
              "      <td>0.010167</td>\n",
              "      <td>0.015762</td>\n",
              "      <td>0.045028</td>\n",
              "      <td>0.009734</td>\n",
              "      <td>0.016479</td>\n",
              "      <td>0.043334</td>\n",
              "      <td>0.008040</td>\n",
              "      <td>0.019282</td>\n",
              "      <td>0.043137</td>\n",
              "      <td>...</td>\n",
              "      <td>0.209307</td>\n",
              "      <td>0.218092</td>\n",
              "      <td>0.266602</td>\n",
              "      <td>0.204810</td>\n",
              "      <td>0.217538</td>\n",
              "      <td>0.266048</td>\n",
              "      <td>0.203660</td>\n",
              "      <td>0.217396</td>\n",
              "      <td>0.265906</td>\n",
              "      <td>1</td>\n",
              "    </tr>\n",
              "    <tr>\n",
              "      <th>90</th>\n",
              "      <td>0.143799</td>\n",
              "      <td>0.071098</td>\n",
              "      <td>0.053556</td>\n",
              "      <td>0.146001</td>\n",
              "      <td>0.072980</td>\n",
              "      <td>0.055020</td>\n",
              "      <td>0.167750</td>\n",
              "      <td>0.091569</td>\n",
              "      <td>0.069477</td>\n",
              "      <td>0.194170</td>\n",
              "      <td>...</td>\n",
              "      <td>0.120651</td>\n",
              "      <td>0.166924</td>\n",
              "      <td>0.271415</td>\n",
              "      <td>0.127329</td>\n",
              "      <td>0.176638</td>\n",
              "      <td>0.303607</td>\n",
              "      <td>0.128006</td>\n",
              "      <td>0.177622</td>\n",
              "      <td>0.306867</td>\n",
              "      <td>1</td>\n",
              "    </tr>\n",
              "    <tr>\n",
              "      <th>91</th>\n",
              "      <td>0.135159</td>\n",
              "      <td>0.138114</td>\n",
              "      <td>0.115068</td>\n",
              "      <td>0.130535</td>\n",
              "      <td>0.133489</td>\n",
              "      <td>0.110444</td>\n",
              "      <td>0.113772</td>\n",
              "      <td>0.116726</td>\n",
              "      <td>0.093680</td>\n",
              "      <td>0.109708</td>\n",
              "      <td>...</td>\n",
              "      <td>0.257209</td>\n",
              "      <td>0.162341</td>\n",
              "      <td>0.146103</td>\n",
              "      <td>0.231659</td>\n",
              "      <td>0.139906</td>\n",
              "      <td>0.128499</td>\n",
              "      <td>0.224610</td>\n",
              "      <td>0.133718</td>\n",
              "      <td>0.123642</td>\n",
              "      <td>1</td>\n",
              "    </tr>\n",
              "    <tr>\n",
              "      <th>92</th>\n",
              "      <td>0.273211</td>\n",
              "      <td>0.140871</td>\n",
              "      <td>0.071664</td>\n",
              "      <td>0.275674</td>\n",
              "      <td>0.142707</td>\n",
              "      <td>0.073007</td>\n",
              "      <td>0.292297</td>\n",
              "      <td>0.155095</td>\n",
              "      <td>0.082071</td>\n",
              "      <td>0.304557</td>\n",
              "      <td>...</td>\n",
              "      <td>0.861143</td>\n",
              "      <td>0.708594</td>\n",
              "      <td>0.604084</td>\n",
              "      <td>0.649682</td>\n",
              "      <td>0.526780</td>\n",
              "      <td>0.441329</td>\n",
              "      <td>0.618354</td>\n",
              "      <td>0.499845</td>\n",
              "      <td>0.417217</td>\n",
              "      <td>1</td>\n",
              "    </tr>\n",
              "  </tbody>\n",
              "</table>\n",
              "<p>93 rows × 67501 columns</p>\n",
              "</div>\n",
              "      <button class=\"colab-df-convert\" onclick=\"convertToInteractive('df-612b7a00-c047-4509-8b5f-000c274ef637')\"\n",
              "              title=\"Convert this dataframe to an interactive table.\"\n",
              "              style=\"display:none;\">\n",
              "        \n",
              "  <svg xmlns=\"http://www.w3.org/2000/svg\" height=\"24px\"viewBox=\"0 0 24 24\"\n",
              "       width=\"24px\">\n",
              "    <path d=\"M0 0h24v24H0V0z\" fill=\"none\"/>\n",
              "    <path d=\"M18.56 5.44l.94 2.06.94-2.06 2.06-.94-2.06-.94-.94-2.06-.94 2.06-2.06.94zm-11 1L8.5 8.5l.94-2.06 2.06-.94-2.06-.94L8.5 2.5l-.94 2.06-2.06.94zm10 10l.94 2.06.94-2.06 2.06-.94-2.06-.94-.94-2.06-.94 2.06-2.06.94z\"/><path d=\"M17.41 7.96l-1.37-1.37c-.4-.4-.92-.59-1.43-.59-.52 0-1.04.2-1.43.59L10.3 9.45l-7.72 7.72c-.78.78-.78 2.05 0 2.83L4 21.41c.39.39.9.59 1.41.59.51 0 1.02-.2 1.41-.59l7.78-7.78 2.81-2.81c.8-.78.8-2.07 0-2.86zM5.41 20L4 18.59l7.72-7.72 1.47 1.35L5.41 20z\"/>\n",
              "  </svg>\n",
              "      </button>\n",
              "      \n",
              "  <style>\n",
              "    .colab-df-container {\n",
              "      display:flex;\n",
              "      flex-wrap:wrap;\n",
              "      gap: 12px;\n",
              "    }\n",
              "\n",
              "    .colab-df-convert {\n",
              "      background-color: #E8F0FE;\n",
              "      border: none;\n",
              "      border-radius: 50%;\n",
              "      cursor: pointer;\n",
              "      display: none;\n",
              "      fill: #1967D2;\n",
              "      height: 32px;\n",
              "      padding: 0 0 0 0;\n",
              "      width: 32px;\n",
              "    }\n",
              "\n",
              "    .colab-df-convert:hover {\n",
              "      background-color: #E2EBFA;\n",
              "      box-shadow: 0px 1px 2px rgba(60, 64, 67, 0.3), 0px 1px 3px 1px rgba(60, 64, 67, 0.15);\n",
              "      fill: #174EA6;\n",
              "    }\n",
              "\n",
              "    [theme=dark] .colab-df-convert {\n",
              "      background-color: #3B4455;\n",
              "      fill: #D2E3FC;\n",
              "    }\n",
              "\n",
              "    [theme=dark] .colab-df-convert:hover {\n",
              "      background-color: #434B5C;\n",
              "      box-shadow: 0px 1px 3px 1px rgba(0, 0, 0, 0.15);\n",
              "      filter: drop-shadow(0px 1px 2px rgba(0, 0, 0, 0.3));\n",
              "      fill: #FFFFFF;\n",
              "    }\n",
              "  </style>\n",
              "\n",
              "      <script>\n",
              "        const buttonEl =\n",
              "          document.querySelector('#df-612b7a00-c047-4509-8b5f-000c274ef637 button.colab-df-convert');\n",
              "        buttonEl.style.display =\n",
              "          google.colab.kernel.accessAllowed ? 'block' : 'none';\n",
              "\n",
              "        async function convertToInteractive(key) {\n",
              "          const element = document.querySelector('#df-612b7a00-c047-4509-8b5f-000c274ef637');\n",
              "          const dataTable =\n",
              "            await google.colab.kernel.invokeFunction('convertToInteractive',\n",
              "                                                     [key], {});\n",
              "          if (!dataTable) return;\n",
              "\n",
              "          const docLinkHtml = 'Like what you see? Visit the ' +\n",
              "            '<a target=\"_blank\" href=https://colab.research.google.com/notebooks/data_table.ipynb>data table notebook</a>'\n",
              "            + ' to learn more about interactive tables.';\n",
              "          element.innerHTML = '';\n",
              "          dataTable['output_type'] = 'display_data';\n",
              "          await google.colab.output.renderOutput(dataTable, element);\n",
              "          const docLink = document.createElement('div');\n",
              "          docLink.innerHTML = docLinkHtml;\n",
              "          element.appendChild(docLink);\n",
              "        }\n",
              "      </script>\n",
              "    </div>\n",
              "  </div>\n",
              "  "
            ]
          },
          "metadata": {},
          "execution_count": 9
        }
      ]
    },
    {
      "cell_type": "code",
      "source": [
        "flat_data.shape"
      ],
      "metadata": {
        "colab": {
          "base_uri": "https://localhost:8080/"
        },
        "id": "AEcCe-odMicW",
        "outputId": "8d8243d0-09e0-4184-d04e-8d3a356e30b2"
      },
      "execution_count": 10,
      "outputs": [
        {
          "output_type": "execute_result",
          "data": {
            "text/plain": [
              "(93, 67500)"
            ]
          },
          "metadata": {},
          "execution_count": 10
        }
      ]
    },
    {
      "cell_type": "code",
      "source": [
        "target.shape"
      ],
      "metadata": {
        "colab": {
          "base_uri": "https://localhost:8080/"
        },
        "id": "RlJUP3CNMk_k",
        "outputId": "6f0fe9d7-698c-4a18-f53a-6726dec5a6f9"
      },
      "execution_count": 11,
      "outputs": [
        {
          "output_type": "execute_result",
          "data": {
            "text/plain": [
              "(93,)"
            ]
          },
          "metadata": {},
          "execution_count": 11
        }
      ]
    },
    {
      "cell_type": "code",
      "source": [
        "x=flat_data \n",
        "y=target\n",
        "x"
      ],
      "metadata": {
        "colab": {
          "base_uri": "https://localhost:8080/"
        },
        "id": "gD4U-mMLMq8B",
        "outputId": "ba7c5605-4d46-4267-db9d-d5eee97af84b"
      },
      "execution_count": 12,
      "outputs": [
        {
          "output_type": "execute_result",
          "data": {
            "text/plain": [
              "array([[0.37676898, 0.26571534, 0.17197429, ..., 0.52650732, 0.34164458,\n",
              "        0.39542235],\n",
              "       [0.09599547, 0.0668298 , 0.05830693, ..., 0.37178911, 0.228678  ,\n",
              "        0.18065185],\n",
              "       [0.71785542, 0.48119259, 0.30599843, ..., 0.73381237, 0.50011303,\n",
              "        0.3542176 ],\n",
              "       ...,\n",
              "       [0.14379908, 0.07109804, 0.05355556, ..., 0.12800566, 0.17762174,\n",
              "        0.30686728],\n",
              "       [0.13515935, 0.13811359, 0.11506784, ..., 0.22461046, 0.13371752,\n",
              "        0.12364209],\n",
              "       [0.27321111, 0.14087124, 0.07166431, ..., 0.61835438, 0.49984458,\n",
              "        0.41721712]])"
            ]
          },
          "metadata": {},
          "execution_count": 12
        }
      ]
    },
    {
      "cell_type": "code",
      "source": [
        "#training and testing data\n",
        "from sklearn.model_selection import train_test_split\n",
        "x_train,x_test,y_train,y_test=train_test_split(x,y,test_size=0.25,random_state=0,stratify=y)\n",
        "print(x_train.shape)\n",
        "print(x_test.shape)"
      ],
      "metadata": {
        "colab": {
          "base_uri": "https://localhost:8080/"
        },
        "id": "Vof9AgRpMv8c",
        "outputId": "ac56d804-27ff-4d0e-df13-0b1d86c2260d"
      },
      "execution_count": 13,
      "outputs": [
        {
          "output_type": "stream",
          "name": "stdout",
          "text": [
            "(69, 67500)\n",
            "(24, 67500)\n"
          ]
        }
      ]
    },
    {
      "cell_type": "code",
      "source": [
        "print(y_train.shape)\n",
        "print(y_test.shape)"
      ],
      "metadata": {
        "colab": {
          "base_uri": "https://localhost:8080/"
        },
        "id": "Va87xnQUMyW9",
        "outputId": "4348c8d2-1f78-4e77-d71f-0b2b488e0535"
      },
      "execution_count": 14,
      "outputs": [
        {
          "output_type": "stream",
          "name": "stdout",
          "text": [
            "(69,)\n",
            "(24,)\n"
          ]
        }
      ]
    },
    {
      "cell_type": "markdown",
      "source": [
        "**SVM Algorithm with best parameters using GridSearch CV:-**"
      ],
      "metadata": {
        "id": "rYMQLT6fM8KX"
      }
    },
    {
      "cell_type": "code",
      "source": [
        "from sklearn.model_selection import GridSearchCV\n",
        "from sklearn import svm\n",
        "parameters=[\n",
        "            {'C':[1,10,100,1000],'kernel':['linear']},\n",
        "            {'C':[1,10,100,1000],'gamma':[0.001,0.0001],'kernel':['rbf']},\n",
        "            {'C':[1,10,100,1000],'kernel':['poly']}\n",
        "            \n",
        "]\n",
        "svc=svm.SVC(probability=True)\n",
        "cv=GridSearchCV(svc,parameters)\n",
        "cv.fit(x_train,y_train)\n",
        "cv.best_params_"
      ],
      "metadata": {
        "colab": {
          "base_uri": "https://localhost:8080/"
        },
        "id": "B-mq3St4M_rZ",
        "outputId": "cd01ba5a-1fe1-4dc3-e9ef-4ddf0a15e4d6"
      },
      "execution_count": 15,
      "outputs": [
        {
          "output_type": "execute_result",
          "data": {
            "text/plain": [
              "{'C': 10, 'gamma': 0.0001, 'kernel': 'rbf'}"
            ]
          },
          "metadata": {},
          "execution_count": 15
        }
      ]
    },
    {
      "cell_type": "code",
      "source": [
        "y_pred=cv.predict(x_test)\n",
        "y_pred"
      ],
      "metadata": {
        "colab": {
          "base_uri": "https://localhost:8080/"
        },
        "id": "a0MvvDpMNcei",
        "outputId": "4a7fca1e-8420-41ed-ea6f-45f274bf602f"
      },
      "execution_count": 16,
      "outputs": [
        {
          "output_type": "execute_result",
          "data": {
            "text/plain": [
              "array([1, 1, 1, 1, 1, 0, 0, 0, 1, 1, 0, 1, 0, 1, 1, 1, 0, 0, 1, 0, 0, 1,\n",
              "       1, 0])"
            ]
          },
          "metadata": {},
          "execution_count": 16
        }
      ]
    },
    {
      "cell_type": "code",
      "source": [
        "y_test"
      ],
      "metadata": {
        "colab": {
          "base_uri": "https://localhost:8080/"
        },
        "id": "Rj0ZX2ySNhIB",
        "outputId": "f3df4e16-cf89-4061-9d17-a0433db05e85"
      },
      "execution_count": 17,
      "outputs": [
        {
          "output_type": "execute_result",
          "data": {
            "text/plain": [
              "array([1, 1, 1, 0, 0, 0, 0, 1, 1, 0, 0, 1, 0, 0, 1, 1, 0, 0, 1, 1, 0, 1,\n",
              "       1, 0])"
            ]
          },
          "metadata": {},
          "execution_count": 17
        }
      ]
    },
    {
      "cell_type": "code",
      "source": [
        "from sklearn.svm import SVC\n",
        "model=SVC(C=10,gamma=0.0001)\n",
        "model.fit(x_train,y_train)"
      ],
      "metadata": {
        "colab": {
          "base_uri": "https://localhost:8080/"
        },
        "id": "Wbd-0IdcNmcn",
        "outputId": "621560a5-2f70-42a9-d5e6-f4603fb1aff0"
      },
      "execution_count": 18,
      "outputs": [
        {
          "output_type": "execute_result",
          "data": {
            "text/plain": [
              "SVC(C=10, gamma=0.0001)"
            ]
          },
          "metadata": {},
          "execution_count": 18
        }
      ]
    },
    {
      "cell_type": "markdown",
      "source": [
        "**Evaluate the model using Confusion Matrix and classification report:-**"
      ],
      "metadata": {
        "id": "ub2MSAmLNxHu"
      }
    },
    {
      "cell_type": "code",
      "source": [
        "from sklearn.metrics import accuracy_score,confusion_matrix,classification_report\n",
        "confusion_matrix(y_pred,y_test)"
      ],
      "metadata": {
        "colab": {
          "base_uri": "https://localhost:8080/"
        },
        "id": "DJOFQ22zN421",
        "outputId": "a2c098b5-f4a8-4535-b66a-07e984b75b48"
      },
      "execution_count": 19,
      "outputs": [
        {
          "output_type": "execute_result",
          "data": {
            "text/plain": [
              "array([[ 8,  2],\n",
              "       [ 4, 10]])"
            ]
          },
          "metadata": {},
          "execution_count": 19
        }
      ]
    },
    {
      "cell_type": "code",
      "source": [
        "accuracy_score(y_pred,y_test)*100"
      ],
      "metadata": {
        "colab": {
          "base_uri": "https://localhost:8080/"
        },
        "id": "HpPqNJgKN82r",
        "outputId": "8d35ab35-99c3-4f47-9906-408250bc4d60"
      },
      "execution_count": 20,
      "outputs": [
        {
          "output_type": "execute_result",
          "data": {
            "text/plain": [
              "75.0"
            ]
          },
          "metadata": {},
          "execution_count": 20
        }
      ]
    },
    {
      "cell_type": "markdown",
      "source": [
        "**Predict for new Image:-**"
      ],
      "metadata": {
        "id": "_53k-EhZOCQS"
      }
    },
    {
      "cell_type": "code",
      "source": [
        "data=[]\n",
        "url=input('Enter your URL')\n",
        "img=imread(url)\n",
        "img_resized = resize(img,(150,150,3))\n",
        "data.append(img_resized.flatten())\n",
        "data=np.array(data)\n",
        "plt.imshow(img_resized)\n",
        "output=model.predict(data)\n",
        "output=CATEGORIES[output[0]]\n",
        "print(f'Predicted Output: {output}')"
      ],
      "metadata": {
        "colab": {
          "base_uri": "https://localhost:8080/",
          "height": 304
        },
        "id": "dKhOIyqZOGlw",
        "outputId": "fb32946a-1a27-44aa-a733-ccda7f6b9b3a"
      },
      "execution_count": 21,
      "outputs": [
        {
          "output_type": "stream",
          "name": "stdout",
          "text": [
            "Enter your URLhttps://i0.wp.com/post.medicalnewstoday.com/wp-content/uploads/sites/3/2020/03/GettyImages-1092658864_hero-1024x575.jpg?w=1155&h=1528\n",
            "Predicted Output: male\n"
          ]
        },
        {
          "output_type": "display_data",
          "data": {
            "text/plain": [
              "<Figure size 432x288 with 1 Axes>"
            ],
            "image/png": "[encoded data removed]"
          },
          "metadata": {
            "needs_background": "light"
          }
        }
      ]
    }
  ]
}